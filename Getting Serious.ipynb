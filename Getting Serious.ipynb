{
 "cells": [
  {
   "cell_type": "markdown",
   "metadata": {},
   "source": [
    "Run using keras environment"
   ]
  },
  {
   "cell_type": "code",
   "execution_count": 42,
   "metadata": {
    "collapsed": false
   },
   "outputs": [],
   "source": [
    "from keras.models import Sequential\n",
    "from keras.layers import Dense, Dropout, Flatten, Lambda, ELU\n",
    "from keras.layers.convolutional import Convolution2D\n",
    "from keras.layers.pooling import MaxPooling2D\n",
    "from keras.optimizers import Adam \n",
    "from keras.models import model_from_json\n",
    "from itertools import zip_longest\n",
    "import cv2\n",
    "import numpy as np\n",
    "import csv, argparse\n",
    "import os, errno\n",
    "\n",
    "def file_len(fname):\n",
    "    i = -1\n",
    "    with open(fname) as f:\n",
    "        for i, l in enumerate(f):\n",
    "            pass\n",
    "    return i + 1\n",
    "\n",
    "def remove(filename):\n",
    "    try:\n",
    "        os.remove(filename)\n",
    "    except OSError as e:\n",
    "        if e.errno != errno.ENOENT:\n",
    "            raise\n",
    "            \n",
    "def load_driving_logs(logs, path):\n",
    "    f = []\n",
    "    y = []\n",
    "    for d in training_data:\n",
    "        log = d+'driving_log.csv'\n",
    "        with open(log,'r') as csvfile:\n",
    "            reader = csv.reader(csvfile, delimiter=',')\n",
    "            for row in reader:\n",
    "                imgc_file = path + d + row[0].strip()\n",
    "                imgl_file = path + d + row[1].strip()\n",
    "                imgr_file = path + d + row[2].strip()\n",
    "                if (os.path.isfile(imgc_file) & os.path.isfile(imgl_file) & os.path.isfile(imgr_file)):\n",
    "                    f.append(imgc_file)\n",
    "                    y.append(np.float32(row[3]))\n",
    "                    f.append(imgl_file)\n",
    "                    y.append(np.float32(row[3])+0.2)\n",
    "                    f.append(imgr_file)\n",
    "                    y.append(np.float32(row[3])-0.2)\n",
    "    return f, y\n",
    "    \n",
    "def split_driving_log(f, y, train_percent, seed=1973):\n",
    "    ft = []\n",
    "    yt = []\n",
    "    fv = []\n",
    "    yv = []\n",
    "    np.random.seed(seed)\n",
    "    for idx, img in enumerate(f):\n",
    "        if (np.random.random() <= train_percent):\n",
    "            ft.append(img)\n",
    "            yt.append(y[idx])\n",
    "        else:\n",
    "            fv.append(img)\n",
    "            yv.append(y[idx])\n",
    "    return ft, yt, fv, yv\n",
    "\n",
    "def grouper(iterable, n, fillvalue=None):\n",
    "    args = [iter(iterable)] * n\n",
    "    return zip_longest(*args, fillvalue=fillvalue)\n",
    "\n",
    "def load_image(f):\n",
    "    img = cv2.imread(f,-1)\n",
    "    img = cv2.cvtColor(img, cv2.COLOR_RGB2BGR)\n",
    "    return img \n",
    "    \n",
    "def extract_csv(log):\n",
    "    f = []\n",
    "    y = []\n",
    "    with open(log,'r') as csvfile:\n",
    "        reader = csv.reader(csvfile, delimiter=',')\n",
    "        for row in reader:\n",
    "            f.append(row[0].strip())\n",
    "            y.append(np.float32(row[3]))\n",
    "            f.append(row[1].strip())\n",
    "            y.append(np.float32(row[3])+0.2)\n",
    "            f.append(row[2].strip())\n",
    "            y.append(np.float32(row[3])-0.2)\n",
    "    return f, y\n",
    "\n",
    "def gamma_correction(img, correction):\n",
    "    img = img/255.0\n",
    "    img = cv2.pow(img, correction)\n",
    "    return np.uint8(img*255)\n",
    "\n",
    "def preprocess_image(img):\n",
    "    img = img[60:140,:,:]\n",
    "    img = cv2.resize(img,(64, 64))\n",
    "    return(img)\n",
    "    \n",
    "def generate_image(img, y):\n",
    "    \n",
    "    angle = y\n",
    "\n",
    "    X_OFFSET_RANGE = 10\n",
    "    Y_OFFSET_RANGE = 10\n",
    "    X_OFFSET_ANGLE = 0.2\n",
    "    \n",
    "    img = preprocess_image(img)\n",
    "    \n",
    "    bright_factor = 0.2 + (3.8 * np.random.uniform())\n",
    "    img = gamma_correction(img, bright_factor)\n",
    "\n",
    "    if (np.random.uniform() > 1.0):\n",
    "        img = np.fliplr(img)\n",
    "        angle = -1.0 * angle\n",
    "\n",
    "    x_translation = (X_OFFSET_RANGE * np.random.uniform()) - (X_OFFSET_RANGE / 2)\n",
    "    y_translation = (Y_OFFSET_RANGE * np.random.uniform()) - (Y_OFFSET_RANGE / 2)\n",
    "\n",
    "    angle = angle + ((x_translation / X_OFFSET_RANGE) * 2) * X_OFFSET_ANGLE\n",
    "    t = np.float32([[1, 0, x_translation], [0, 1, y_translation]])\n",
    "    img = cv2.warpAffine(img, t, (img.shape[1], img.shape[0]))\n",
    "\n",
    "    return (img, angle)\n",
    "\n",
    "            \n",
    "def generator_random_zero(n, img_dir, logfile):\n",
    "    f, y = extract_csv(logfile)\n",
    "    l = len(f)\n",
    "    while True:\n",
    "        xs = []\n",
    "        ys = []\n",
    "        for _ in range(n):\n",
    "            i = np.random.randint(low=0,high=l)\n",
    "            if ( (np.float32(y[i]) >= -0.01 \n",
    "                    and np.float32(y[i]) <= 0.01 ) \n",
    "                    and np.random.uniform() > 0.1 ):\n",
    "                while (np.float32(y[i]) >= -0.01 \n",
    "                       and np.float32(y[i]) <= 0.01):\n",
    "                    i = np.random.randint(low=0,high=l)\n",
    "            elif ( (np.float32(y[i]) >= -0.21 \n",
    "                    and np.float32(y[i]) <= -0.19 ) \n",
    "                    and np.random.uniform() > 0.1 ):\n",
    "                while (np.float32(y[i]) >= -0.21 \n",
    "                       and np.float32(y[i]) <= -0.19):\n",
    "                    i = np.random.randint(low=0,high=l)\n",
    "            elif ( (np.float32(y[i]) >= 0.19 \n",
    "                    and np.float32(y[i]) <= 0.21 ) \n",
    "                    and np.random.uniform() > 0.1 ):\n",
    "                while (np.float32(y[i]) >= 0.19 \n",
    "                       and np.float32(y[i]) <= 0.21):\n",
    "                    i = np.random.randint(low=0,high=l)\n",
    "            img, angle = generate_image(load_image(img_dir+f[i]),np.float32(y[i]))\n",
    "            xs.append(img)\n",
    "            ys.append(y[i])\n",
    "        yield (np.asarray(xs), np.asarray(ys))\n",
    "\n",
    "def generator_all_batch(n, img_dir, logfile):\n",
    "    f, y = extract_csv(logfile)\n",
    "    l = len(f)\n",
    "    while True:\n",
    "        xs = []\n",
    "        ys = []\n",
    "        for i in range(0,l,n):\n",
    "            xs.append(preprocess_image(load_image(img_dir+f[i])))\n",
    "            ys.append(np.float32(y[i]))\n",
    "            yield (np.asarray(xs), np.asarray(ys))\n",
    "\n",
    "        \n",
    "def get_model():\n",
    "    ch, row, col = 3, 64, 64  \n",
    "\n",
    "    model = Sequential()\n",
    "    model.add(Lambda(lambda x: x/127.5 - 1.,\n",
    "            input_shape=( row, col, ch),\n",
    "            output_shape=( row, col, ch)))\n",
    "    model.add(Convolution2D(32, 3, 3, border_mode=\"same\"))\n",
    "    model.add(MaxPooling2D(pool_size=(2,2)))\n",
    "    model.add(Dropout(0.5))\n",
    "    model.add(ELU())\n",
    "    model.add(Convolution2D(64, 3, 3, border_mode=\"same\"))\n",
    "    model.add(MaxPooling2D(pool_size=(2,2)))\n",
    "    model.add(Dropout(0.5))\n",
    "    model.add(ELU())\n",
    "    model.add(Convolution2D(128, 3, 3, border_mode=\"same\"))\n",
    "    model.add(MaxPooling2D(pool_size=(2,2)))\n",
    "    model.add(Dropout(0.5))   \n",
    "    model.add(ELU())\n",
    "    model.add(Flatten())\n",
    "    model.add(Dense(512))\n",
    "    model.add(ELU())\n",
    "    model.add(Dense(64))\n",
    "    model.add(ELU())\n",
    "    model.add(Dense(16))\n",
    "    model.add(ELU())\n",
    "    model.add(Dense(1))\n",
    "    return model\n",
    "\n"
   ]
  },
  {
   "cell_type": "code",
   "execution_count": 43,
   "metadata": {
    "collapsed": false
   },
   "outputs": [],
   "source": [
    "logs = [ 'data/two-laps-middle-forward/', 'data/two-laps-middle-backwards/', \n",
    "                  'data/two-laps-recovery-forward/']\n",
    "\n",
    "f, y = load_driving_logs(logs, '/home/mattwg/Projects/carnd-cloning-experiments/')\n",
    "\n",
    "ft, yt, fv, yv = split_driving_log(f, y, 0.8)"
   ]
  },
  {
   "cell_type": "code",
   "execution_count": 48,
   "metadata": {
    "collapsed": false
   },
   "outputs": [
    {
     "name": "stdout",
     "output_type": "stream",
     "text": [
      "all:15972 train:12833 valid:3139\n"
     ]
    }
   ],
   "source": [
    "print('all:{} train:{} valid:{}'.format(len(f), len(ft), len(fv)))"
   ]
  },
  {
   "cell_type": "code",
   "execution_count": 59,
   "metadata": {
    "collapsed": false
   },
   "outputs": [
    {
     "name": "stdout",
     "output_type": "stream",
     "text": [
      "(array([ 0.01589551,  0.07380057,  0.13057023,  0.12489326,  0.36786743,\n",
      "        1.15810118,  3.08032205,  0.58699834,  1.19897534,  1.41583546,\n",
      "        2.91569002,  0.7800152 ,  1.154695  ,  1.40448153,  2.62502933,\n",
      "        0.52341632,  0.24070338,  0.21231855,  0.06358203,  0.06131124]), array([-0.58270661, -0.52756311, -0.4724196 , -0.4172761 , -0.36213259,\n",
      "       -0.30698909, -0.25184558, -0.19670208, -0.14155857, -0.08641507,\n",
      "       -0.03127156,  0.02387194,  0.07901545,  0.13415895,  0.18930246,\n",
      "        0.24444596,  0.29958947,  0.35473297,  0.40987648,  0.46501998,\n",
      "        0.52016349]), <a list of 20 Patch objects>)\n"
     ]
    },
    {
     "data": {
      "image/png": "[encoded data removed]",
      "text/plain": [
       "<matplotlib.figure.Figure at 0x7f2059952b00>"
      ]
     },
     "metadata": {},
     "output_type": "display_data"
    }
   ],
   "source": [
    "import matplotlib.pyplot as plt\n",
    "%matplotlib inline\n",
    "h = plt.hist(y, bins=20, normed = True)\n",
    "print(h)"
   ]
  },
  {
   "cell_type": "code",
   "execution_count": 148,
   "metadata": {
    "collapsed": false
   },
   "outputs": [
    {
     "name": "stdout",
     "output_type": "stream",
     "text": [
      "['bin:1=735', 'bin:2=3577', 'bin:3=1248', 'bin:4=5276', 'bin:5=3760', 'bin:6=867', 'bin:7=509']\n",
      "15972\n"
     ]
    }
   ],
   "source": [
    "def bin_data(f, y, bins):\n",
    "    fb = {}\n",
    "    yb = {}\n",
    "    for idx, img in enumerate(f):\n",
    "        bin = str((i for i,v in enumerate(bins) if v >= y[idx]).__next__())\n",
    "        if bin in fb:\n",
    "            fb[bin].append(img)\n",
    "            yb[bin].append(y[idx])\n",
    "        else:\n",
    "            fb[bin] = [img]\n",
    "            yb[bin] = [y[idx]]\n",
    "    return fb, yb\n",
    "\n",
    "fb, yb = bin_data(f, y, bins = (-999, -0.3, -0.2, -0.1, 0.1, 0.2, 0.3, 999 ))\n",
    "\n",
    "print([ 'bin:{}={}'.format(k,len(fb[k])) for k in sorted(fb.keys())])\n",
    "print(sum([len(fb[k]) for k in fb.keys()]))\n"
   ]
  },
  {
   "cell_type": "code",
   "execution_count": 160,
   "metadata": {
    "collapsed": false
   },
   "outputs": [],
   "source": [
    "def generate_balanced(fb, yb, n):\n",
    "    while True:\n",
    "        xs = []\n",
    "        ys = []\n",
    "        for _ in range(n):\n",
    "            bin = np.random.randint(low=1, high=8)\n",
    "            l = len(fb[str(bin)])\n",
    "            i = np.random.randint(low=0,high=l)\n",
    "            img, angle = generate_image(load_image(fb[str(bin)][i]),yb[str(bin)][i])\n",
    "            xs.append(img)\n",
    "            ys.append(angle)\n",
    "        yield (np.asarray(xs), np.asarray(ys))\n",
    "    \n",
    "g = generate_balanced(fb, yb, 10000)\n",
    "fg, yg = g.__next__()"
   ]
  },
  {
   "cell_type": "code",
   "execution_count": 161,
   "metadata": {
    "collapsed": false
   },
   "outputs": [
    {
     "data": {
      "text/plain": [
       "(array([  14.,   65.,  122.,  299.,  443.,  675.,  759.,  847.,  815.,\n",
       "         768.,  806.,  781.,  845.,  780.,  778.,  604.,  326.,  193.,\n",
       "          57.,   23.]),\n",
       " array([-0.73624534, -0.66345641, -0.59066749, -0.51787856, -0.44508964,\n",
       "        -0.37230072, -0.29951179, -0.22672287, -0.15393394, -0.08114502,\n",
       "        -0.00835609,  0.06443283,  0.13722176,  0.21001068,  0.28279961,\n",
       "         0.35558853,  0.42837746,  0.50116638,  0.57395531,  0.64674423,\n",
       "         0.71953316]),\n",
       " <a list of 20 Patch objects>)"
      ]
     },
     "execution_count": 161,
     "metadata": {},
     "output_type": "execute_result"
    },
    {
     "data": {
      "image/png": "[encoded data removed]",
      "text/plain": [
       "<matplotlib.figure.Figure at 0x7f2059a07cf8>"
      ]
     },
     "metadata": {},
     "output_type": "display_data"
    }
   ],
   "source": [
    "plt.hist(yg, bins = 20)"
   ]
  },
  {
   "cell_type": "code",
   "execution_count": null,
   "metadata": {
    "collapsed": true
   },
   "outputs": [],
   "source": []
  },
  {
   "cell_type": "code",
   "execution_count": null,
   "metadata": {
    "collapsed": true
   },
   "outputs": [],
   "source": []
  },
  {
   "cell_type": "code",
   "execution_count": null,
   "metadata": {
    "collapsed": true
   },
   "outputs": [],
   "source": []
  },
  {
   "cell_type": "code",
   "execution_count": null,
   "metadata": {
    "collapsed": true
   },
   "outputs": [],
   "source": []
  },
  {
   "cell_type": "code",
   "execution_count": null,
   "metadata": {
    "collapsed": true
   },
   "outputs": [],
   "source": [
    "\n",
    "parser = argparse.ArgumentParser(description='Train Model')\n",
    "parser.add_argument('--model', type=str, help='Optional path to model to continue training')\n",
    "args = parser.parse_args()\n",
    "\n",
    "image_dir = 'data/images_run01/'\n",
    "\n",
    "if args.model:\n",
    "    print('Loading model for continued training!')\n",
    "    with open(args.model, 'r') as f:\n",
    "        json = f.read()\n",
    "        model = model_from_json(json)\n",
    "else:\n",
    "    print('Training new model!')\n",
    "    model = get_model()\n",
    "    remove('clean_log.csv')\n",
    "    remove('train_log.csv')\n",
    "    remove('valid_log.csv')\n",
    "    clean_driving_log('data/driving_log_3.csv', image_dir)\n",
    "    split_driving_log('clean_log.csv',0.5)\n",
    "\n",
    "n_train = file_len('train_log.csv') * 3 \n",
    "n_valid = file_len('valid_log.csv') * 3\n",
    "\n",
    "print(n_train, n_valid)\n",
    "\n",
    "early_stopping_patience = 10\n",
    "epochs_since_better = 0\n",
    "n_epochs = 20\n",
    "continue_training = True\n",
    "consider_stopping = False\n",
    "n_epoch = 0\n",
    "\n",
    "batch_size = 1\n",
    "n_batches = n_train / batch_size\n",
    "\n",
    "model.compile(optimizer=Adam(lr=0.00001), loss=\"mse\")\n",
    "\n",
    "if args.model:\n",
    "    model.load_weights('model.h5')\n",
    "    best_mse = model.evaluate_generator(\n",
    "        generator_all(image_dir,'valid_log.csv'),\n",
    "        val_samples = 1)\n",
    "else:\n",
    "    best_mse = float(\"inf\")\n",
    "    \n",
    "while n_epoch < n_epochs and continue_training:\n",
    "    \n",
    "    model.fit_generator(\n",
    "        generator_random_zero(batch_size, image_dir,'train_log.csv'),\n",
    "        samples_per_epoch=n_batches,\n",
    "        nb_epoch=1, verbose=0)\n",
    "\n",
    "    mse = model.evaluate_generator(\n",
    "        generator_all_batch(2,image_dir,'valid_log.csv'),\n",
    "        val_samples = 1)\n",
    "    \n",
    "    print(mse)\n",
    "    \n",
    "    # Early stopping?\n",
    "    if mse > best_mse:    \n",
    "        if consider_stopping:\n",
    "            epochs_since_better += 1\n",
    "        else:\n",
    "            consider_stopping = True\n",
    "            epochs_since_better = 1\n",
    "    else:\n",
    "        print('Improved accuracy of {} at epoch {}'.format(mse,n_epoch))\n",
    "        best_mse = mse\n",
    "        json = model.to_json()\n",
    "        with open('model.json', 'w') as f:\n",
    "            f.write(json)  \n",
    "        model.save_weights('model.h5')\n",
    "        consider_stopping = False\n",
    "\n",
    "    if epochs_since_better > early_stopping_patience:\n",
    "        print('Stopping no improvement for {} epochs'.format(early_stopping_patience))\n",
    "        continue_training = False\n",
    "\n",
    "    \n",
    "    n_epoch += 1\n"
   ]
  }
 ],
 "metadata": {
  "anaconda-cloud": {},
  "kernelspec": {
   "display_name": "Python [conda env:keras]",
   "language": "python",
   "name": "conda-env-keras-py"
  },
  "language_info": {
   "codemirror_mode": {
    "name": "ipython",
    "version": 3
   },
   "file_extension": ".py",
   "mimetype": "text/x-python",
   "name": "python",
   "nbconvert_exporter": "python",
   "pygments_lexer": "ipython3",
   "version": "3.5.2"
  }
 },
 "nbformat": 4,
 "nbformat_minor": 1
}
